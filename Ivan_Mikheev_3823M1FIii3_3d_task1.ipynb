{
 "cells": [
  {
   "cell_type": "code",
   "execution_count": 82,
   "metadata": {},
   "outputs": [],
   "source": [
    "import numpy as np"
   ]
  },
  {
   "cell_type": "markdown",
   "metadata": {},
   "source": [
    "1. (5 баллов) Найти ближайшую ортогональную матрицу (в смысле нормы Фробениуса) к матрице A. Посмотрев на результат, найти соответствующие этому преобразованию угол и направление поворота. Матрицу, угол и направление поворота распечатать в stdout.\n"
   ]
  },
  {
   "cell_type": "code",
   "execution_count": 83,
   "metadata": {},
   "outputs": [
    {
     "name": "stdout",
     "output_type": "stream",
     "text": [
      "Матрица A:\n",
      "[[ 0.5         2.16506351  0.4330127 ]\n",
      " [-0.8660254   1.25        0.25      ]\n",
      " [ 0.          0.5         2.5       ]]\n",
      "Ближайшая ортогональная матрица к A:\n",
      "[[ 5.00000000e-01  8.66025404e-01 -3.87999535e-10]\n",
      " [-8.66025404e-01  5.00000000e-01  1.65510277e-11]\n",
      " [ 2.08333332e-10  3.27742012e-10  1.00000000e+00]]\n"
     ]
    }
   ],
   "source": [
    "def nearest_orthogonal_matrix(A):\n",
    "    U, S, V = np.linalg.svd(A)\n",
    "    B = U @ V\n",
    "    return B\n",
    "\n",
    "\n",
    "A = np.array([[0.5, 2.16506351, 0.4330127],\n",
    "              [-0.8660254, 1.25, 0.25],\n",
    "              [0., 0.5, 2.5]])\n",
    "B = nearest_orthogonal_matrix(A)\n",
    "print(f\"Матрица A:\\n{A}\")\n",
    "print(f\"Ближайшая ортогональная матрица к A:\\n{B}\")"
   ]
  },
  {
   "cell_type": "code",
   "execution_count": 84,
   "metadata": {},
   "outputs": [
    {
     "data": {
      "text/plain": [
       "(1.8778234064568186e-08, 1.1936620632782995e-08, -59.999999975140156)"
      ]
     },
     "execution_count": 84,
     "metadata": {},
     "output_type": "execute_result"
    }
   ],
   "source": [
    "x = np.arctan(np.divide(B[2, 1], B[2, 2])) * (180 / np.pi)\n",
    "y = np.arcsin(B[2, 0]) * (180 / np.pi)\n",
    "z = np.arctan(np.divide(B[1, 0], B[0, 0])) * (180 / np.pi)\n",
    "x, y, z"
   ]
  },
  {
   "cell_type": "markdown",
   "metadata": {},
   "source": [
    "2. (5 баллов) При помощи SVD найти обратную матрицу к квадратной матрице nxn, состоящей из элементов:\n",
    "   $$\n",
    "   A_{i,j} = \\frac{1}{i+j-1}\n",
    "   $$\n",
    "для размеров матрицы n=3 и n=10. Результат распечатать в stdout."
   ]
  },
  {
   "cell_type": "code",
   "execution_count": 85,
   "metadata": {},
   "outputs": [],
   "source": [
    "def create_matrix(n):\n",
    "    A = np.zeros((n, n))\n",
    "    for i in range(1, n + 1):\n",
    "        for j in range(1, n + 1):\n",
    "            A[i - 1, j - 1] = 1 / (i + j - 1)\n",
    "    return A"
   ]
  },
  {
   "cell_type": "code",
   "execution_count": 86,
   "metadata": {},
   "outputs": [
    {
     "name": "stdout",
     "output_type": "stream",
     "text": [
      "Матрица обратная к A: [[   9.  -36.   30.]\n",
      " [ -36.  192. -180.]\n",
      " [  30. -180.  180.]]\n"
     ]
    }
   ],
   "source": [
    "n = 3\n",
    "A = create_matrix(n)\n",
    "\n",
    "U, S, V = np.linalg.svd(A)\n",
    "\n",
    "sigma_plus = np.zeros((n, n))\n",
    "sigma_plus[: min(n, n), : min(n, n)] = np.diag(1 / S)\n",
    "\n",
    "A_inv = V.T @ sigma_plus @ U.T\n",
    "\n",
    "print(f\"Матрица обратная к A: {A_inv}\")"
   ]
  },
  {
   "cell_type": "code",
   "execution_count": 87,
   "metadata": {},
   "outputs": [
    {
     "name": "stdout",
     "output_type": "stream",
     "text": [
      "Матрица обратная к A: [[ 9.99968801e+01 -4.94972983e+03  7.91942351e+04 -6.00547514e+05\n",
      "   2.52226935e+06 -6.30561027e+06  9.60846741e+06 -8.75050471e+06\n",
      "   4.37522463e+06 -9.23653401e+05]\n",
      " [-4.94973007e+03  3.26676635e+05 -5.88010158e+06  4.75629832e+07\n",
      "  -2.08086238e+08  5.35075001e+08 -8.32333747e+08  7.70046179e+08\n",
      "  -3.89834079e+08  8.31292651e+07]\n",
      " [ 7.91942458e+04 -5.88010206e+06  1.12896900e+08 -9.51253754e+08\n",
      "   4.28061541e+09 -1.12365573e+10  1.77564570e+10 -1.66330265e+10\n",
      "   8.50549697e+09 -1.82885159e+09]\n",
      " [-6.00547659e+05  4.75629917e+07 -9.51253842e+08  8.24415817e+09\n",
      "  -3.78714437e+10  1.00990164e+11 -1.61583782e+11  1.52889644e+11\n",
      "  -7.88335475e+10  1.70693388e+10]\n",
      " [ 2.52227025e+06 -2.08086297e+08  4.28061621e+09 -3.78714471e+10\n",
      "   1.76732974e+11 -4.77178018e+11  7.71195403e+11 -7.35782223e+11\n",
      "   3.82040250e+11 -8.32132532e+10]\n",
      " [-6.30561324e+06  5.35075205e+08 -1.12365604e+10  1.00990182e+11\n",
      "  -4.77178058e+11  1.30139343e+12 -2.12078752e+12  2.03755261e+12\n",
      "  -1.06425671e+12  2.32997634e+11]\n",
      " [ 9.60847303e+06 -8.32334145e+08  1.77564635e+10 -1.61583824e+11\n",
      "   7.71195529e+11 -2.12078768e+12  3.48026688e+12 -3.36358146e+12\n",
      "   1.76588021e+12 -3.88330126e+11]\n",
      " [-8.75051076e+06  7.70046619e+08 -1.66330339e+10  1.52889695e+11\n",
      "  -7.35782395e+11  2.03755291e+12 -3.36358169e+12  3.26748122e+12\n",
      "  -1.72308664e+12  3.80405636e+11]\n",
      " [ 4.37522811e+06 -3.89834336e+08  8.50550143e+09 -7.88335795e+10\n",
      "   3.82040365e+11 -1.06425693e+12  1.76588044e+12 -1.72308675e+12\n",
      "   9.12223254e+11 -2.02090776e+11]\n",
      " [-9.23654224e+05  8.31293267e+07 -1.82885268e+09  1.70693468e+10\n",
      "  -8.32132832e+10  2.32997696e+11 -3.88330198e+11  3.80405680e+11\n",
      "  -2.02090787e+11  4.49091161e+10]]\n"
     ]
    }
   ],
   "source": [
    "n = 10\n",
    "A = create_matrix(n)\n",
    "\n",
    "U, S, V = np.linalg.svd(A)\n",
    "\n",
    "sigma_plus = np.zeros((n, n))\n",
    "sigma_plus[: min(n, n), : min(n, n)] = np.diag(1 / S)\n",
    "\n",
    "A_inv = V.T @ sigma_plus @ U.T\n",
    "\n",
    "print(f\"Матрица обратная к A: {A_inv}\")"
   ]
  },
  {
   "cell_type": "markdown",
   "metadata": {},
   "source": [
    "3. (5 баллов) Для квадратной матрицы nxn, состоящей из элементов:\n",
    "   $$\n",
    "   A_{i,j} = i + j - 1\n",
    "   $$\n",
    "   найти с использованием SVD все решения уравнений AX = 0 для n=4. Результат распечатать в stdout.\n"
   ]
  },
  {
   "cell_type": "code",
   "execution_count": 88,
   "metadata": {},
   "outputs": [
    {
     "data": {
      "text/plain": [
       "array([[-1,  0,  1,  2],\n",
       "       [ 0,  1,  2,  3],\n",
       "       [ 1,  2,  3,  4],\n",
       "       [ 2,  3,  4,  5]])"
      ]
     },
     "execution_count": 88,
     "metadata": {},
     "output_type": "execute_result"
    }
   ],
   "source": [
    "n = 4\n",
    "A = np.array([i + j - 1 for i in range(n) for j in range(n)]).reshape((n, n))\n",
    "A"
   ]
  },
  {
   "cell_type": "code",
   "execution_count": 89,
   "metadata": {},
   "outputs": [
    {
     "data": {
      "text/plain": [
       "array([[ 0.34691234, -0.42385354],\n",
       "       [-0.14662801,  0.82371125],\n",
       "       [-0.747481  , -0.37586188],\n",
       "       [ 0.54719667, -0.02399583]])"
      ]
     },
     "execution_count": 89,
     "metadata": {},
     "output_type": "execute_result"
    }
   ],
   "source": [
    "U, S, V = np.linalg.svd(A)\n",
    "x = V.T[:, np.isclose(S, 0)]\n",
    "x"
   ]
  },
  {
   "cell_type": "code",
   "execution_count": 90,
   "metadata": {},
   "outputs": [
    {
     "name": "stdout",
     "output_type": "stream",
     "text": [
      "x1 = 0.3469*a1 + -0.4239*a2\n",
      "x2 = -0.1466*a1 + 0.8237*a2\n",
      "x3 = -0.7475*a1 + -0.3759*a2\n",
      "x4 = 0.5472*a1 + -0.0240*a2\n"
     ]
    }
   ],
   "source": [
    "for i, val in enumerate(x, 1):\n",
    "    print(f\"x{i} = {val[0]:.4f}*a1 + {val[1]:.4f}*a2\")"
   ]
  },
  {
   "cell_type": "markdown",
   "metadata": {},
   "source": [
    "4. (5 баллов) Написать программу, находящую все точки пересечения двух прямых на плоскости методом однородных координат. Прямые заданы уравнениями ax+by+c = 0, cx+dy+e=0. Коэффициенты задать константами на ваше усмотрение. Результат распечатать в stdout.\n"
   ]
  },
  {
   "cell_type": "code",
   "execution_count": 91,
   "metadata": {},
   "outputs": [
    {
     "name": "stdout",
     "output_type": "stream",
     "text": [
      "Точка пересечения прямых: [ 2.66666667 -3.33333333]\n"
     ]
    }
   ],
   "source": [
    "def find_intersection_point(a, b, c, d, e):\n",
    "    line1 = np.array([a, b, c])\n",
    "    line2 = np.array([c, d, e])\n",
    "    intersection_point = np.cross(line1, line2).astype(float)\n",
    "    intersection_point /= intersection_point[2]\n",
    "    return intersection_point[:2]\n",
    "\n",
    "\n",
    "a, b, c = 1, 2, 3\n",
    "c, d, e = 4, 5, 6\n",
    "\n",
    "intersection_point = find_intersection_point(a, b, c, d, e)\n",
    "print(\"Точка пересечения прямых:\", intersection_point)"
   ]
  }
 ],
 "metadata": {
  "kernelspec": {
   "display_name": "Python 3",
   "language": "python",
   "name": "python3"
  },
  "language_info": {
   "codemirror_mode": {
    "name": "ipython",
    "version": 3
   },
   "file_extension": ".py",
   "mimetype": "text/x-python",
   "name": "python",
   "nbconvert_exporter": "python",
   "pygments_lexer": "ipython3",
   "version": "3.9.13"
  }
 },
 "nbformat": 4,
 "nbformat_minor": 2
}
