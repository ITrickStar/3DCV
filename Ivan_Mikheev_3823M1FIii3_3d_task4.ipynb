{
 "cells": [
  {
   "cell_type": "code",
   "execution_count": 448,
   "metadata": {},
   "outputs": [],
   "source": [
    "import numpy as np\n",
    "import cv2"
   ]
  },
  {
   "cell_type": "markdown",
   "metadata": {},
   "source": [
    "17. (5 баллов) Первая камера находится в начале координат, ее оптическая ось\n",
    "    направлена вдоль оси z. Вторая камера сдвинута относительно первой на 1 в\n",
    "    направлении оси x. Матрицы внутренних параметров обеих камер единичные.\n",
    "    Сгенерировать случайный набор точек в трехмерном пространстве с z>0,\n",
    "    спроектировать их на обе камеры (cv2.projectPoints), по проекциям найти\n",
    "    необходимую матрицу (cv2.findEssentialMat).\n"
   ]
  },
  {
   "cell_type": "code",
   "execution_count": 449,
   "metadata": {},
   "outputs": [
    {
     "name": "stdout",
     "output_type": "stream",
     "text": [
      "EssentialMat:\n",
      "[[ 4.31987838e-15 -3.44196762e-15  5.86667355e-15]\n",
      " [ 1.10696884e-15 -4.82154168e-15 -7.07106781e-01]\n",
      " [ 2.39683575e-15  7.07106781e-01  2.42470593e-15]]\n"
     ]
    }
   ],
   "source": [
    "num_points = 100\n",
    "points_3d = np.random.rand(num_points, 3)\n",
    "\n",
    "K = np.eye(3)\n",
    "\n",
    "\n",
    "# T = np.array([[1.0, 0, 0, 1.0], [0, 1.0, 0, 0], [0, 0, 1.0, 0], [0, 0, 0, 1.0]])\n",
    "T = np.array([-1.0, 0.0, 0.0])\n",
    "\n",
    "\n",
    "points_img1, _ = cv2.projectPoints(\n",
    "    points_3d, np.zeros(3), np.zeros(3), K, np.zeros(4))\n",
    "points_img2, _ = cv2.projectPoints(points_3d, np.zeros(3), T, K, np.zeros(4))\n",
    "\n",
    "E, mask = cv2.findEssentialMat(\n",
    "    points_img1, points_img2, focal=1.0, pp=(0, 0), method=cv2.RANSAC\n",
    ")\n",
    "\n",
    "print(\"EssentialMat:\")\n",
    "print(E)"
   ]
  },
  {
   "cell_type": "markdown",
   "metadata": {},
   "source": [
    "18. (5 баллов) По необходимой матрице все возможные позы первой камеры\n",
    "    относительно второй, для этого использовать cv2.decomposeEssentialMat. Из\n",
    "    получившихся 4 решений выбрать одно, используя условие, что трехмерные точки\n",
    "    (сгенерированные в задаче 17) должны находиться в области видимости камер.\n"
   ]
  },
  {
   "cell_type": "code",
   "execution_count": 450,
   "metadata": {},
   "outputs": [
    {
     "data": {
      "text/plain": [
       "(array([[ 1.00000000e+00, -1.16863669e-14, -3.30218694e-15],\n",
       "        [ 1.17155958e-14,  1.00000000e+00, -1.83186799e-15],\n",
       "        [ 3.31937616e-15,  1.66533454e-15,  1.00000000e+00]]),\n",
       " array([[ 1.00000000e+00,  4.90709167e-15,  6.43316762e-15],\n",
       "        [ 4.93632059e-15, -1.00000000e+00,  1.83186799e-15],\n",
       "        [ 6.45035684e-15, -1.66533454e-15, -1.00000000e+00]]),\n",
       " array([[1.00000000e+00],\n",
       "        [8.32595821e-15],\n",
       "        [4.88486650e-15]]))"
      ]
     },
     "execution_count": 450,
     "metadata": {},
     "output_type": "execute_result"
    }
   ],
   "source": [
    "R1, R2, t = cv2.decomposeEssentialMat(E)\n",
    "R1, R2, t"
   ]
  },
  {
   "cell_type": "code",
   "execution_count": 451,
   "metadata": {},
   "outputs": [
    {
     "data": {
      "text/plain": [
       "[[array([[ 1.00000000e+00, -1.16863669e-14, -3.30218694e-15],\n",
       "         [ 1.17155958e-14,  1.00000000e+00, -1.83186799e-15],\n",
       "         [ 3.31937616e-15,  1.66533454e-15,  1.00000000e+00]]),\n",
       "  array([[1.00000000e+00],\n",
       "         [8.32595821e-15],\n",
       "         [4.88486650e-15]])],\n",
       " [array([[ 1.00000000e+00, -1.16863669e-14, -3.30218694e-15],\n",
       "         [ 1.17155958e-14,  1.00000000e+00, -1.83186799e-15],\n",
       "         [ 3.31937616e-15,  1.66533454e-15,  1.00000000e+00]]),\n",
       "  array([[-1.00000000e+00],\n",
       "         [-8.32595821e-15],\n",
       "         [-4.88486650e-15]])],\n",
       " [array([[ 1.00000000e+00,  4.90709167e-15,  6.43316762e-15],\n",
       "         [ 4.93632059e-15, -1.00000000e+00,  1.83186799e-15],\n",
       "         [ 6.45035684e-15, -1.66533454e-15, -1.00000000e+00]]),\n",
       "  array([[1.00000000e+00],\n",
       "         [8.32595821e-15],\n",
       "         [4.88486650e-15]])],\n",
       " [array([[ 1.00000000e+00,  4.90709167e-15,  6.43316762e-15],\n",
       "         [ 4.93632059e-15, -1.00000000e+00,  1.83186799e-15],\n",
       "         [ 6.45035684e-15, -1.66533454e-15, -1.00000000e+00]]),\n",
       "  array([[-1.00000000e+00],\n",
       "         [-8.32595821e-15],\n",
       "         [-4.88486650e-15]])]]"
      ]
     },
     "execution_count": 451,
     "metadata": {},
     "output_type": "execute_result"
    }
   ],
   "source": [
    "poses = [[R1, t], [R1, -t], [R2, t], [R2, -t]]\n",
    "poses"
   ]
  },
  {
   "cell_type": "code",
   "execution_count": 452,
   "metadata": {},
   "outputs": [
    {
     "name": "stdout",
     "output_type": "stream",
     "text": [
      "Solution 2 is valid.\n",
      "R1: [[ 1.00000000e+00 -1.16863669e-14 -3.30218694e-15]\n",
      " [ 1.17155958e-14  1.00000000e+00 -1.83186799e-15]\n",
      " [ 3.31937616e-15  1.66533454e-15  1.00000000e+00]]\n",
      "t: [[-1.00000000e+00]\n",
      " [-8.32595821e-15]\n",
      " [-4.88486650e-15]]\n"
     ]
    }
   ],
   "source": [
    "for i, pose in enumerate(poses):\n",
    "    P1 = np.hstack((np.eye(3), np.zeros((3, 1))))\n",
    "    P2 = np.hstack((pose[0], pose[1]))\n",
    "    points_triangulate = cv2.triangulatePoints(P1, P2, points_img1, points_img2)\n",
    "    points_3d_reconstructed = points_triangulate[:3] / points_triangulate[3]\n",
    "    if np.all(points_3d_reconstructed[2] > 0):\n",
    "        print(\"Solution\", i + 1, \"is valid.\")\n",
    "        if i < 2:\n",
    "            print(\"R1:\", end=\" \")\n",
    "        else:\n",
    "            print(\"R2:\", end=\" \")\n",
    "        print(pose[0])\n",
    "        print(\"t:\", pose[1])"
   ]
  },
  {
   "cell_type": "markdown",
   "metadata": {},
   "source": [
    "19. (5 баллов) Найти матрицу внутренних параметров камеры изображения\n",
    "    https://drive.google.com/file/d/1mC0PI9k4q_wJt9iAn6uosEVSJb9PcZIk/view?usp=sharing, предполагая, что оптическая ось проходит строго через центр изображения, а\n",
    "    фокусное расстояние в эквиваленте 35мм равно 0.64 дюйма. Почему результат\n",
    "    отличается от параметров, полученных методом калибрации камеры\n",
    "    https://drive.google.com/file/d/1A4H84PLy7971Xd1ErS1bRRupWk9_TCYI/view?usp=sharing?\n"
   ]
  },
  {
   "cell_type": "code",
   "execution_count": null,
   "metadata": {
    "vscode": {
     "languageId": "xml"
    }
   },
   "outputs": [],
   "source": [
    "<?xml version=\"1.0\"?>\n",
    "<opencv_storage>\n",
    "<calibration_time>\"Sun Jan 20 18:22:54 2019\"</calibration_time>\n",
    "<image_width>960</image_width>\n",
    "<image_height>540</image_height>\n",
    "<board_width>7</board_width>\n",
    "<board_height>9</board_height>\n",
    "<square_size>1.</square_size>\n",
    "<flags>16384</flags>\n",
    "<camera_matrix type_id=\"opencv-matrix\">\n",
    "  <rows>3</rows>\n",
    "  <cols>3</cols>\n",
    "  <dt>d</dt>\n",
    "  <data>\n",
    "    4.2581151397691417e+02 0. 4.8175802555527360e+02 \n",
    "    0. 4.3533255745518812e+02 2.6743704185634374e+02\n",
    "    0. 0. 1.</data></camera_matrix>\n",
    "<distortion_coefficients type_id=\"opencv-matrix\">\n",
    "  <rows>14</rows>\n",
    "  <cols>1</cols>\n",
    "  <dt>d</dt>\n",
    "  <data>\n",
    "    4.4429001834994422e+00 2.7649030467662392e+00\n",
    "    -4.5203901289078106e-03 -1.8217805324766470e-03 0.\n",
    "    4.7056576535214534e+00 3.9343291290497260e+00 3.3910745370687528e-01\n",
    "    0. 0. 0. 0. 0. 0.</data></distortion_coefficients>\n",
    "<avg_reprojection_error>4.9917025890850247e-01</avg_reprojection_error>\n",
    "</opencv_storage>"
   ]
  },
  {
   "cell_type": "code",
   "execution_count": 456,
   "metadata": {},
   "outputs": [
    {
     "data": {
      "text/plain": [
       "array([[433.49333333,   0.        , 480.        ],\n",
       "       [  0.        , 365.76      , 270.        ],\n",
       "       [  0.        ,   0.        ,   1.        ]])"
      ]
     },
     "execution_count": 456,
     "metadata": {},
     "output_type": "execute_result"
    }
   ],
   "source": [
    "from matplotlib import pyplot as plt\n",
    "\n",
    "img = cv2.imread(\"images\\\\GOPR01170000.jpg\")\n",
    "f = 0.0254 * 0.64 * 1000\n",
    "pix_x = 36 / img.shape[1]\n",
    "pix_y = 24 / img.shape[0]\n",
    "K = np.array(\n",
    "    [[f / pix_x, 0, img.shape[1] / 2], [0, f / pix_y, img.shape[0] / 2], [0, 0, 1]]\n",
    ")\n",
    "K"
   ]
  }
 ],
 "metadata": {
  "kernelspec": {
   "display_name": "3d_venv",
   "language": "python",
   "name": "python3"
  },
  "language_info": {
   "codemirror_mode": {
    "name": "ipython",
    "version": 3
   },
   "file_extension": ".py",
   "mimetype": "text/x-python",
   "name": "python",
   "nbconvert_exporter": "python",
   "pygments_lexer": "ipython3",
   "version": "3.12.2"
  }
 },
 "nbformat": 4,
 "nbformat_minor": 2
}
