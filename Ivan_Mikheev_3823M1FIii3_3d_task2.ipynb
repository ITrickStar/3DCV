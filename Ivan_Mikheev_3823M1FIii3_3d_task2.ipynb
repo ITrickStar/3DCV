{
 "cells": [
  {
   "cell_type": "code",
   "execution_count": 1,
   "metadata": {},
   "outputs": [],
   "source": [
    "import numpy as np\n",
    "import random\n",
    "import warnings\n",
    "warnings.filterwarnings(\"ignore\", category=DeprecationWarning)"
   ]
  },
  {
   "cell_type": "markdown",
   "metadata": {},
   "source": [
    "6. (5 баллов) Камера повернута относительно мировой системы координат на 45\n",
    "градусов вокруг оси z и сдвинута на 10 вдоль оси z мировой системы координат.\n",
    "Внутренние параметры камеры: fx=fy=400, cx=960, cy=540.<br>\n",
    "Написать программу, которая выводит на экран матрицу проекции камеры и целочисленные\n",
    "координаты пикселя на изображении, соответствующего трехмерной точке с\n",
    "координатами (10, -10, 100) в мировой системе координат."
   ]
  },
  {
   "cell_type": "code",
   "execution_count": 2,
   "metadata": {},
   "outputs": [],
   "source": [
    "fx = fy = 400\n",
    "cx = 960\n",
    "cy = 540\n",
    "angle_x = 0\n",
    "angle_y = 0\n",
    "angle_z = 45\n",
    "\n",
    "theta = np.radians(45)\n",
    "shift = np.array([0, 0, 10])\n",
    "world = np.array([10, -10, 100])"
   ]
  },
  {
   "cell_type": "code",
   "execution_count": 3,
   "metadata": {},
   "outputs": [],
   "source": [
    "def rotation_matrix(theta1, theta2, theta3):\n",
    "    w = np.radians(theta1)\n",
    "    phi = np.radians(theta2)\n",
    "    k = np.radians(theta3)\n",
    "\n",
    "    R_x = np.array([[1, 0, 0],\n",
    "                    [0, np.cos(w), -np.sin(w)],\n",
    "                    [0, np.sin(w), np.cos(w)]])\n",
    "    R_y = np.array([[np.cos(phi), 0, np.sin(phi)],\n",
    "                    [0, 1, 0],\n",
    "                    [-np.sin(phi), 0, np.cos(phi)]])\n",
    "    R_z = np.array([[np.cos(k), -np.sin(k), 0],\n",
    "                    [np.sin(k), np.cos(k), 0],\n",
    "                    [0, 0, 1]])\n",
    "    return R_x @ R_y @ R_z"
   ]
  },
  {
   "cell_type": "code",
   "execution_count": 4,
   "metadata": {},
   "outputs": [],
   "source": [
    "R = rotation_matrix(angle_x,angle_y,angle_z)"
   ]
  },
  {
   "cell_type": "code",
   "execution_count": 5,
   "metadata": {},
   "outputs": [],
   "source": [
    "K = np.array([[fx, 0, cx],\n",
    "             [0, fy, cy],\n",
    "             [0, 0, 1]])"
   ]
  },
  {
   "cell_type": "code",
   "execution_count": 6,
   "metadata": {},
   "outputs": [
    {
     "name": "stdout",
     "output_type": "stream",
     "text": [
      "Проекционная матрица:\n",
      "[[ 283 -283  960 9600]\n",
      " [ 283  283  540 5400]\n",
      " [   0    0    1   10]]\n"
     ]
    }
   ],
   "source": [
    "P = np.dot(K, np.insert(R, 3, shift, axis=1))\n",
    "print(\"Проекционная матрица:\")\n",
    "print(np.round(P).astype(int))"
   ]
  },
  {
   "cell_type": "code",
   "execution_count": 7,
   "metadata": {},
   "outputs": [
    {
     "name": "stdout",
     "output_type": "stream",
     "text": [
      "Координаты пикселя на изображении:\n",
      "x: 1016\n",
      "y: 540\n"
     ]
    }
   ],
   "source": [
    "point_camera = R @ world\n",
    "u = (fx * point_camera[0] / point_camera[2]) + cx\n",
    "v = (fy * point_camera[1] / point_camera[2]) + cy\n",
    "\n",
    "u_int = int(u)\n",
    "v_int = int(v)\n",
    "\n",
    "print(f\"Координаты пикселя на изображении:\")\n",
    "print(\"x:\", u_int)\n",
    "print(\"y:\", v_int)"
   ]
  },
  {
   "cell_type": "markdown",
   "metadata": {},
   "source": [
    "7. (5 баллов) Написать генератор пар двумерных точек для теста алгоритма,\n",
    "удовлетворяющих заданному заранее преобразованию гомографии H0. Используя\n",
    "прямое линейное преобразование (DLT) и SVD, написать программу, которая\n",
    "принимает на вход множество пар двумерных точек, и находит соответствующую\n",
    "этим парам матрицу гомографии H. Распечатать матрицы H0 и H"
   ]
  },
  {
   "cell_type": "code",
   "execution_count": 8,
   "metadata": {},
   "outputs": [],
   "source": [
    "def generate_pairs(num_pairs, H0):\n",
    "    points_source = np.random.rand(num_pairs, 2)\n",
    "    points_source_homogeneous = np.hstack((points_source, np.ones((num_pairs, 1))))\n",
    "    points_target_homogeneous = np.dot(H0, points_source_homogeneous.T).T\n",
    "    points_target = points_target_homogeneous[:, :2] / points_target_homogeneous[:, 2:]\n",
    "    return points_source, points_target\n",
    "\n",
    "def find_homography(points1, points2):\n",
    "    points_source_h = np.hstack((points1, np.ones((points1.shape[0], 1))))\n",
    "    points_target_h = np.hstack((points2, np.ones((points2.shape[0], 1))))\n",
    "    A = []\n",
    "    for i in range(len(points_source_h)):\n",
    "        x, y, z = points_source_h[i]\n",
    "        u, v, z = points_target_h[i]\n",
    "        A.append([-x, -y, -1, 0, 0, 0, u*x, u*y, u])\n",
    "        A.append([0, 0, 0, -x, -y, -1, v*x, v*y, v])\n",
    "    A = np.array(A)\n",
    "\n",
    "    U, S, V = np.linalg.svd(A)\n",
    "    H = V[-1].reshape(3, 3)\n",
    "    H /= H[2, 2]  # Нормализуем гомографию\n",
    "    return H\n"
   ]
  },
  {
   "cell_type": "code",
   "execution_count": 9,
   "metadata": {},
   "outputs": [],
   "source": [
    "H0 = np.array([[1., 2., 3.],\n",
    "               [4., 5., 6.],\n",
    "               [7., 8., 9.]])\n",
    "num_pairs = 8\n",
    "points1, points2 = generate_pairs(num_pairs, H0)"
   ]
  },
  {
   "cell_type": "code",
   "execution_count": 10,
   "metadata": {},
   "outputs": [
    {
     "name": "stdout",
     "output_type": "stream",
     "text": [
      "Матрица гомографии H0:\n",
      "[[1. 2. 3.]\n",
      " [4. 5. 6.]\n",
      " [7. 8. 9.]]\n",
      "Найденная матрица гомографии H:\n",
      "[[0.11111111 0.22222222 0.33333333]\n",
      " [0.44444444 0.55555556 0.66666667]\n",
      " [0.77777778 0.88888889 1.        ]]\n"
     ]
    }
   ],
   "source": [
    "H = find_homography(points1, points2)\n",
    "\n",
    "print(\"Матрица гомографии H0:\")\n",
    "print(H0)\n",
    "print(\"Найденная матрица гомографии H:\")\n",
    "print(H)"
   ]
  },
  {
   "cell_type": "markdown",
   "metadata": {},
   "source": [
    "8. (5 баллов) Модифицировать генератор из Задачи 7 так, чтобы он выдавал n=1000\n",
    "соответствий, из которых 30% соответствуют заданному заранее преобразованию\n",
    "гомографии, а остальные взяты случайно (преобразованию гомографии не\n",
    "удовлетворяют). Реализовать нахождение преобразования гомографии H1,\n",
    "используя DLT и RANSAC. Распечатать H0 и H1."
   ]
  },
  {
   "cell_type": "code",
   "execution_count": 11,
   "metadata": {},
   "outputs": [],
   "source": [
    "H0 = np.array([[1., 2., 3.],\n",
    "               [4., 5., 6.],\n",
    "               [7., 8., 9.]])\n",
    "n = 1000"
   ]
  },
  {
   "cell_type": "code",
   "execution_count": 12,
   "metadata": {},
   "outputs": [],
   "source": [
    "def generate_homography_points_with_noise(H0, n, homography_percent = 0.3):\n",
    "    homography_n = int(n*homography_percent)\n",
    "    print(\"Соответствие гомографии:\", homography_n)\n",
    "    print(\"Случайное соответствие:\", n - homography_n)\n",
    "\n",
    "    points_source = np.random.rand(n, 2)\n",
    "    points_target = np.array([np.dot(H0, np.insert(points_source[i], 2, 1, axis=0)) for i in range(homography_n)])\n",
    "    points_target = (points_target/points_target[:,2:])[:,:2]\n",
    "    points_noise = np.random.rand(n - homography_n, 2) \n",
    "    points_target = np.concatenate([points_noise, points_target])\n",
    "    np.random.shuffle(points_source)\n",
    "    np.random.shuffle(points_target)\n",
    "\n",
    "    return points_source, points_target"
   ]
  },
  {
   "cell_type": "code",
   "execution_count": 13,
   "metadata": {},
   "outputs": [
    {
     "name": "stdout",
     "output_type": "stream",
     "text": [
      "Соответствие гомографии: 300\n",
      "Случайное соответствие: 700\n"
     ]
    }
   ],
   "source": [
    "points_source, points_target = generate_homography_points_with_noise(H0, n, 0.3)"
   ]
  },
  {
   "cell_type": "code",
   "execution_count": 14,
   "metadata": {},
   "outputs": [],
   "source": [
    "def DLT(points_source, points_target):\n",
    "    A = []\n",
    "    for src, dst in zip(points_source, points_target):\n",
    "        x, y = src\n",
    "        u, v = dst\n",
    "        A.append([-x, -y, -1, 0, 0, 0, x*u, y*u, u])\n",
    "        A.append([0, 0, 0, -x, -y, -1, x*v, y*v, v])\n",
    "    A = np.array(A)\n",
    "    U, S, V = np.linalg.svd(A)\n",
    "    H = V[-1].reshape(3, 3)\n",
    "    return H\n",
    "\n",
    "def geometric_distance(point_source, point_target, H):\n",
    "    estimatep2 = np.dot(H, np.array(list(point_source) + [1]).reshape((3,1)))\n",
    "    if estimatep2[2] != 0:\n",
    "        estimatep2 = estimatep2/estimatep2[2]\n",
    "\n",
    "    error = np.dot(H, np.array(list(point_target) + [1]).reshape((3,1))) - estimatep2\n",
    "    return np.linalg.norm(error)\n",
    "\n",
    "def RANSAC(points_source, points_target, n, max_iter = 500, threshold=0.5):\n",
    "    max_inliers = 0\n",
    "    best_H = None\n",
    "    curr_idx = np.zeros(4)\n",
    "    curr_points_source = np.zeros(4, dtype=object)\n",
    "    curr_points_target = np.zeros(4, dtype=object)\n",
    "    for i in range(max_iter):\n",
    "        iscolinear = True\n",
    "        while(iscolinear):\n",
    "            iscolinear = False\n",
    "            for j in range(4):\n",
    "                curr_idx[j] = random.randint(0, n-1)\n",
    "                for i in range(j):\n",
    "                    if (curr_idx[j] == curr_idx[i]):\n",
    "                        iscolinear = True\n",
    "                        break\n",
    "                if (iscolinear):\n",
    "                    break\n",
    "                curr_points_source[j] = tuple(points_source[int(curr_idx[j])])\n",
    "                curr_points_target[j] = tuple(points_target[int(curr_idx[j])])\n",
    "\n",
    "        H1 = DLT(curr_points_source, curr_points_target)\n",
    "\n",
    "        inliers = 0\n",
    "        for j in range(n):\n",
    "            d = geometric_distance(points_source[j], points_target[j], H1)\n",
    "            if d < threshold:\n",
    "                inliers += 1\n",
    "        if inliers > max_inliers:\n",
    "            max_inliers = inliers\n",
    "            best_H = H1\n",
    "    return best_H, max_inliers"
   ]
  },
  {
   "cell_type": "code",
   "execution_count": 15,
   "metadata": {},
   "outputs": [],
   "source": [
    "H1, status = RANSAC(points_source, points_target, n)"
   ]
  },
  {
   "cell_type": "code",
   "execution_count": 16,
   "metadata": {},
   "outputs": [
    {
     "name": "stdout",
     "output_type": "stream",
     "text": [
      "Матрица H0:\n",
      "[[1. 2. 3.]\n",
      " [4. 5. 6.]\n",
      " [7. 8. 9.]]\n",
      "Матрица H1 (RANSAC):\n",
      "[[0.08396836 0.04828665 0.20289621]\n",
      " [0.2662123  0.19188694 0.40360637]\n",
      " [0.44845624 0.33548723 0.60431653]]\n"
     ]
    }
   ],
   "source": [
    "print(\"Матрица H0:\")\n",
    "print(H0)\n",
    "print(\"Матрица H1 (RANSAC):\")\n",
    "print(H1)"
   ]
  },
  {
   "cell_type": "markdown",
   "metadata": {},
   "source": [
    "9. (5 баллов) Два изображения одной и той же сцены сделаны одной и той же\n",
    "камерой с такой же матрицей внутренних параметров, как в Задаче 6. Второй\n",
    "снимок сделан после поворота камеры на 30 градусов вокруг оси x относительно\n",
    "начала координат системы отсчета, связанной с камерой (без сдвига). Найти\n",
    "матрицу гомографии между двумя изображениями."
   ]
  },
  {
   "cell_type": "code",
   "execution_count": 17,
   "metadata": {},
   "outputs": [],
   "source": [
    "fx = fy = 400\n",
    "cx = 960\n",
    "cy = 540\n",
    "angle_x = 30\n",
    "angle_y = 0\n",
    "angle_z = 0"
   ]
  },
  {
   "cell_type": "code",
   "execution_count": 18,
   "metadata": {},
   "outputs": [
    {
     "name": "stdout",
     "output_type": "stream",
     "text": [
      "Матрица гомографии H между изображениями:\n",
      "[[ 5.23490583e+00  6.28188700e+00 -4.06550960e+03]\n",
      " [ 0.00000000e+00  8.06712287e+00 -2.95510434e+03]\n",
      " [ 0.00000000e+00  6.54363229e-03  1.00000000e+00]]\n"
     ]
    }
   ],
   "source": [
    "theta = np.radians\n",
    "R = rotation_matrix(angle_x, angle_y, angle_z)\n",
    "K = np.array([[fx, 0, cx],\n",
    "              [0, fy, cy],\n",
    "              [0, 0, 1]])\n",
    "\n",
    "H = K @ R @ np.linalg.inv(K)\n",
    "H = H / H[2,2]\n",
    "\n",
    "print(\"Матрица гомографии H между изображениями:\")\n",
    "print(H)"
   ]
  }
 ],
 "metadata": {
  "kernelspec": {
   "display_name": "Python 3",
   "language": "python",
   "name": "python3"
  },
  "language_info": {
   "codemirror_mode": {
    "name": "ipython",
    "version": 3
   },
   "file_extension": ".py",
   "mimetype": "text/x-python",
   "name": "python",
   "nbconvert_exporter": "python",
   "pygments_lexer": "ipython3",
   "version": "3.12.2"
  }
 },
 "nbformat": 4,
 "nbformat_minor": 2
}
